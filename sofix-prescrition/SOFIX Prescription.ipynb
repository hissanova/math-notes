{
 "cells": [
  {
   "cell_type": "code",
   "execution_count": 1,
   "id": "d8022c37",
   "metadata": {},
   "outputs": [],
   "source": [
    "from collections import OrderedDict\n",
    "import pandas as pd\n",
    "import numpy as np\n",
    "from scipy.optimize import linprog"
   ]
  },
  {
   "cell_type": "code",
   "execution_count": 2,
   "id": "2b184081",
   "metadata": {},
   "outputs": [],
   "source": [
    "from typing import NamedTuple, Optional \n",
    "\n",
    "class MQI(NamedTuple):\n",
    "    TC: float\n",
    "    TN: float\n",
    "    TP: float\n",
    "    TK: float\n",
    "    \n",
    "    @property\n",
    "    def CN_ratio(self):\n",
    "        return self.TC / self.TN\n",
    "    "
   ]
  },
  {
   "cell_type": "code",
   "execution_count": 3,
   "id": "06d7f650",
   "metadata": {},
   "outputs": [],
   "source": [
    "MQIs = {\"cow\": MQI(TC=320000, TN=18000, TP=8000, TK=21000),\n",
    "        \"chicken\": MQI(TC=250000, TN=30000, TP=18000, TK=28000),\n",
    "        \"soy\": MQI(TC=360000, TN=60000, TP=12000, TK=25000)\n",
    "       }"
   ]
  },
  {
   "cell_type": "code",
   "execution_count": 4,
   "id": "f66c22aa",
   "metadata": {},
   "outputs": [],
   "source": [
    "class Range(NamedTuple):\n",
    "    min: Optional[float]\n",
    "    max: Optional[float]\n",
    "\n",
    "RecomendedValues = {\n",
    "    \"Bacteria Density\": Range(2.0, None),\n",
    "    \"TC\": Range(12000, None),\n",
    "    \"TN\": Range(1000, None),\n",
    "    \"TP\": Range(1100, None),\n",
    "    \"TK\": Range(2500, 10000),\n",
    "    \"C/N\": Range(8, 27),\n",
    "    \"C/P\": Range(7, 25),\n",
    "    \"N-activity\": Range(25, None),\n",
    "    \"P-activity\": Range(20, 80)\n",
    "}\n",
    "\n",
    "PERKG2PER10A = 10 * 5000 * 4.5\n",
    "\n",
    "max_manure_amount = 5000 / PERKG2PER10A\n",
    "\n",
    "RecomendedValues[\"Amount Manure(kg)\"] = Range(None, max_manure_amount)\n",
    "\n",
    "max_organic_amount = 500 / PERKG2PER10A\n",
    "\n",
    "RecomendedValues[\"Amount Organic(kg)\"] = Range(None, max_organic_amount)"
   ]
  },
  {
   "cell_type": "code",
   "execution_count": 68,
   "id": "dec6fe66",
   "metadata": {},
   "outputs": [
    {
     "name": "stdout",
     "output_type": "stream",
     "text": [
      "cow manure\n",
      "data['TC']=320000, data['TP']=8000\n",
      "'C/P': 40.0\n",
      "chicken manure\n",
      "data['TC']=250000, data['TP']=18000\n",
      "'C/P': 13.9\n",
      "soy meal\n",
      "data['TC']=360000, data['TP']=12000\n",
      "'C/P': 30.0\n",
      "rice bran\n",
      "data['TC']=350000, data['TP']=35000\n",
      "'C/P': 10.0\n",
      "fish bone\n",
      "data['TC']=320000, data['TP']=60000\n",
      "'C/P': 5.3\n",
      "bone\n",
      "data['TC']=210000, data['TP']=100000\n",
      "'C/P': 2.1\n"
     ]
    }
   ],
   "source": [
    "MQI_raw = {\n",
    "     \"cow manure\": {\"TC\": 320000, \"TN\": 18000, \"TP\": 8000, \"TK\": 21000, \"C/N\": 17.8, \"Fermented\": True},\n",
    "     \"chicken manure\": {\"TC\": 250000, \"TN\": 30000, \"TP\": 18000, \"TK\": 28000, \"C/N\": 8.3, \"Fermented\": True},\n",
    "     \"soy meal\": {\"TC\": 360000, \"TN\": 60000, \"TP\": 12000, \"TK\": 25000, \"C/N\": 6.0, \"Fermented\": False},\n",
    "     \"rice bran\": {\"TC\": 350000, \"TN\": 20000, \"TP\": 35000, \"TK\": 20000, \"C/N\": 17.5, \"Fermented\": False},\n",
    "     \"fish bone\": {\"TC\": 320000, \"TN\": 70000, \"TP\": 60000, \"TK\": 10000, \"C/N\": 4.6, \"Fermented\": False},\n",
    "     \"bone\": {\"TC\": 210000, \"TN\": 50000, \"TP\": 100000, \"TK\": 1500, \"C/N\": 4.2, \"Fermented\": False},\n",
    "       }\n",
    "for name, data in MQI_raw.items():\n",
    "    print(name)\n",
    "    print(f\"{data['TC']=}, {data['TP']=}\")\n",
    "    CP_ratio = round(data['TC']/data['TP'],1)\n",
    "    print(f\"'C/P': {CP_ratio}\")\n",
    "    data['C/P'] = CP_ratio\n",
    "    \n",
    "selected_fields = [\"TC\", \"TN\", \"TP\", \"TK\", \"C/N\", \"C/P\", \"Fermented\"]\n",
    "\n",
    "MQIs = pd.DataFrame(MQI_raw).transpose()\n",
    "MQIs = MQIs.reindex(columns=selected_fields)"
   ]
  },
  {
   "cell_type": "code",
   "execution_count": 69,
   "id": "eb7c870b",
   "metadata": {
    "scrolled": true
   },
   "outputs": [
    {
     "data": {
      "text/html": [
       "<div>\n",
       "<style scoped>\n",
       "    .dataframe tbody tr th:only-of-type {\n",
       "        vertical-align: middle;\n",
       "    }\n",
       "\n",
       "    .dataframe tbody tr th {\n",
       "        vertical-align: top;\n",
       "    }\n",
       "\n",
       "    .dataframe thead th {\n",
       "        text-align: right;\n",
       "    }\n",
       "</style>\n",
       "<table border=\"1\" class=\"dataframe\">\n",
       "  <thead>\n",
       "    <tr style=\"text-align: right;\">\n",
       "      <th></th>\n",
       "      <th>TC</th>\n",
       "      <th>TN</th>\n",
       "      <th>TP</th>\n",
       "      <th>TK</th>\n",
       "      <th>C/N</th>\n",
       "      <th>C/P</th>\n",
       "      <th>Fermented</th>\n",
       "    </tr>\n",
       "  </thead>\n",
       "  <tbody>\n",
       "    <tr>\n",
       "      <th>cow manure</th>\n",
       "      <td>320000</td>\n",
       "      <td>18000</td>\n",
       "      <td>8000</td>\n",
       "      <td>21000</td>\n",
       "      <td>17.8</td>\n",
       "      <td>40.0</td>\n",
       "      <td>True</td>\n",
       "    </tr>\n",
       "    <tr>\n",
       "      <th>chicken manure</th>\n",
       "      <td>250000</td>\n",
       "      <td>30000</td>\n",
       "      <td>18000</td>\n",
       "      <td>28000</td>\n",
       "      <td>8.3</td>\n",
       "      <td>13.9</td>\n",
       "      <td>True</td>\n",
       "    </tr>\n",
       "    <tr>\n",
       "      <th>soy meal</th>\n",
       "      <td>360000</td>\n",
       "      <td>60000</td>\n",
       "      <td>12000</td>\n",
       "      <td>25000</td>\n",
       "      <td>6.0</td>\n",
       "      <td>30.0</td>\n",
       "      <td>False</td>\n",
       "    </tr>\n",
       "    <tr>\n",
       "      <th>rice bran</th>\n",
       "      <td>350000</td>\n",
       "      <td>20000</td>\n",
       "      <td>35000</td>\n",
       "      <td>20000</td>\n",
       "      <td>17.5</td>\n",
       "      <td>10.0</td>\n",
       "      <td>False</td>\n",
       "    </tr>\n",
       "    <tr>\n",
       "      <th>fish bone</th>\n",
       "      <td>320000</td>\n",
       "      <td>70000</td>\n",
       "      <td>60000</td>\n",
       "      <td>10000</td>\n",
       "      <td>4.6</td>\n",
       "      <td>5.3</td>\n",
       "      <td>False</td>\n",
       "    </tr>\n",
       "    <tr>\n",
       "      <th>bone</th>\n",
       "      <td>210000</td>\n",
       "      <td>50000</td>\n",
       "      <td>100000</td>\n",
       "      <td>1500</td>\n",
       "      <td>4.2</td>\n",
       "      <td>2.1</td>\n",
       "      <td>False</td>\n",
       "    </tr>\n",
       "  </tbody>\n",
       "</table>\n",
       "</div>"
      ],
      "text/plain": [
       "                    TC     TN      TP     TK   C/N   C/P Fermented\n",
       "cow manure      320000  18000    8000  21000  17.8  40.0      True\n",
       "chicken manure  250000  30000   18000  28000   8.3  13.9      True\n",
       "soy meal        360000  60000   12000  25000   6.0  30.0     False\n",
       "rice bran       350000  20000   35000  20000  17.5  10.0     False\n",
       "fish bone       320000  70000   60000  10000   4.6   5.3     False\n",
       "bone            210000  50000  100000   1500   4.2   2.1     False"
      ]
     },
     "execution_count": 69,
     "metadata": {},
     "output_type": "execute_result"
    }
   ],
   "source": [
    "MQIs"
   ]
  },
  {
   "cell_type": "code",
   "execution_count": 59,
   "id": "84c08271",
   "metadata": {},
   "outputs": [
    {
     "name": "stdout",
     "output_type": "stream",
     "text": [
      "cow manure\n",
      "C: 320000, P: 8000\n",
      "'C/P': 40.0\n",
      "chicken manure\n",
      "C: 250000, P: 18000\n",
      "'C/P': 13.9\n",
      "soy meal\n",
      "C: 360000, P: 12000\n",
      "'C/P': 30.0\n",
      "rice bran\n",
      "C: 350000, P: 35000\n",
      "'C/P': 10.0\n",
      "fish bone\n",
      "C: 320000, P: 60000\n",
      "'C/P': 5.3\n",
      "bone\n",
      "C: 210000, P: 100000\n",
      "'C/P': 2.1\n"
     ]
    }
   ],
   "source": [
    "for row in MQIs.iterrows():\n",
    "    print(row[0])\n",
    "    print(f\"C: {row[1].iloc[0]}, P: {row[1].iloc[2]}\")\n",
    "    print(f\"'C/P': {row[1].iloc[0]/row[1].iloc[2]:.1f}\")"
   ]
  },
  {
   "cell_type": "code",
   "execution_count": 7,
   "id": "308c4499",
   "metadata": {},
   "outputs": [],
   "source": [
    "selected_fields = [\"TC\", \"TN\", \"TP\", \"TK\"]\n",
    "\n",
    "\n",
    "def calc_TX(TX_old, mqi, increase):\n",
    "    return (TX_old + increase * mqi)/(1 + increase)\n",
    "\n",
    "\n",
    "def calc_min_required(sofix):\n",
    "    min_vals = np.array([RecomendedValues[fld].min for fld in selected_fields])\n",
    "\n",
    "    sofix_selected = np.array([sofix[fld] for fld in selected_fields])\n",
    "\n",
    "#     mqi = MQIs[selected_fields].loc[\"cow\"].to_numpy()\n",
    "\n",
    "    for x in MQIs.iterrows():\n",
    "        print(20*\"*\")\n",
    "        print(x[0])\n",
    "#         print(MQIs.loc[x[0]])\n",
    "        mqi = x[1][selected_fields].to_numpy()\n",
    "        mins_required = (min_vals - sofix_selected)/(mqi - min_vals)\n",
    "        print(f\"  {mins_required=}\")\n",
    "        min_required = max(mins_required)\n",
    "        print(f\"Fermented:  {x[1].loc['Fermented']}\")\n",
    "        if x[1].loc['Fermented']:\n",
    "            max_amount = RecomendedValues['Amount Manure(kg)'].max\n",
    "        else:\n",
    "            max_amount = RecomendedValues['Amount Organic(kg)'].max\n",
    "        print(f\"  {min_required=} | maximum allowed {max_amount}\")\n",
    "        new_TXs = calc_TX(sofix_selected, mqi, min_required)\n",
    "        display_fields = selected_fields + [\"C/N\"]\n",
    "        new_TXs = np.append(new_TXs, new_TXs[0]/new_TXs[1])\n",
    "        df = pd.DataFrame({k: [v] for k, v in zip(display_fields, new_TXs)})\n",
    "        print(f\"{df}\")\n",
    "#         print(f\"  C/N:{new_TXs[0]/new_TXs[1]}\")"
   ]
  },
  {
   "cell_type": "code",
   "execution_count": 8,
   "id": "095dc54a",
   "metadata": {},
   "outputs": [
    {
     "name": "stdout",
     "output_type": "stream",
     "text": [
      "********************\n",
      "cow manure\n",
      "  mins_required=array([0.003246753246753247, 0.011764705882352941, 0.028985507246376812,\n",
      "       0.0], dtype=object)\n",
      "Fermented:  True\n",
      "  min_required=0.028985507246376812 | maximum allowed 0.022222222222222223\n",
      "             TC           TN      TP           TK        C/N\n",
      "0  19704.225352  1284.507042  1100.0  3021.126761  15.339912\n",
      "********************\n",
      "chicken manure\n",
      "  mins_required=array([0.004201680672268907, 0.006896551724137931, 0.011834319526627219,\n",
      "       0.0], dtype=object)\n",
      "Fermented:  True\n",
      "  min_required=0.011834319526627219 | maximum allowed 0.022222222222222223\n",
      "             TC           TN      TP           TK        C/N\n",
      "0  13795.321637  1141.520468  1100.0  2798.245614  12.085041\n",
      "********************\n",
      "soy meal\n",
      "  mins_required=array([0.0028735632183908046, 0.003389830508474576, 0.01834862385321101,\n",
      "       0.0], dtype=object)\n",
      "Fermented:  False\n",
      "  min_required=0.01834862385321101 | maximum allowed 0.0022222222222222222\n",
      "             TC           TN      TP           TK       C/N\n",
      "0  17288.288288  1866.666667  1100.0  2905.405405  9.261583\n",
      "********************\n",
      "rice bran\n",
      "  mins_required=array([0.0029585798816568047, 0.010526315789473684, 0.0058997050147492625,\n",
      "       0.0], dtype=object)\n",
      "Fermented:  False\n",
      "  min_required=0.010526315789473684 | maximum allowed 0.0022222222222222222\n",
      "         TC      TN           TP           TK       C/N\n",
      "0  14531.25  1000.0  1255.208333  2682.291667  14.53125\n",
      "********************\n",
      "fish bone\n",
      "  mins_required=array([0.003246753246753247, 0.002898550724637681, 0.003395585738539898,\n",
      "       0.0], dtype=object)\n",
      "Fermented:  False\n",
      "  min_required=0.003395585738539898 | maximum allowed 0.0022222222222222222\n",
      "             TC           TN      TP           TK        C/N\n",
      "0  12045.685279  1034.179357  1100.0  2525.380711  11.647579\n",
      "********************\n",
      "bone\n",
      "  mins_required=array([0.005050505050505051, 0.004081632653061225, 0.0020222446916076846,\n",
      "       -0.0], dtype=object)\n",
      "Fermented:  False\n",
      "  min_required=0.005050505050505051 | maximum allowed 0.0022222222222222222\n",
      "        TC           TN          TP           TK        C/N\n",
      "0  12000.0  1047.236181  1397.98995  2494.974874  11.458733\n"
     ]
    }
   ],
   "source": [
    "sofix1 = {\"TC\": 11000, \"TN\": 800, \"TP\": 900, \"TK\": 2500, \"C/N\": 13.8}\n",
    "\n",
    "calc_min_required(sofix1)"
   ]
  },
  {
   "cell_type": "code",
   "execution_count": 9,
   "id": "edac83ea",
   "metadata": {},
   "outputs": [
    {
     "name": "stdout",
     "output_type": "stream",
     "text": [
      "********************\n",
      "cow manure\n",
      "  mins_required=array([0.006493506493506494, 0.011764705882352941, 0.028985507246376812,\n",
      "       0.0], dtype=object)\n",
      "Fermented:  True\n",
      "  min_required=0.028985507246376812 | maximum allowed 0.022222222222222223\n",
      "             TC           TN      TP           TK        C/N\n",
      "0  18732.394366  1284.507042  1100.0  3021.126761  14.583333\n",
      "********************\n",
      "chicken manure\n",
      "  mins_required=array([0.008403361344537815, 0.006896551724137931, 0.011834319526627219,\n",
      "       0.0], dtype=object)\n",
      "Fermented:  True\n",
      "  min_required=0.011834319526627219 | maximum allowed 0.022222222222222223\n",
      "             TC           TN      TP           TK        C/N\n",
      "0  12807.017544  1141.520468  1100.0  2798.245614  11.219262\n",
      "********************\n",
      "soy meal\n",
      "  mins_required=array([0.005747126436781609, 0.003389830508474576, 0.01834862385321101,\n",
      "       0.0], dtype=object)\n",
      "Fermented:  False\n",
      "  min_required=0.01834862385321101 | maximum allowed 0.0022222222222222222\n",
      "             TC           TN      TP           TK       C/N\n",
      "0  16306.306306  1866.666667  1100.0  2905.405405  8.735521\n",
      "********************\n",
      "rice bran\n",
      "  mins_required=array([0.005917159763313609, 0.010526315789473684, 0.0058997050147492625,\n",
      "       0.0], dtype=object)\n",
      "Fermented:  False\n",
      "  min_required=0.010526315789473684 | maximum allowed 0.0022222222222222222\n",
      "             TC      TN           TP           TK        C/N\n",
      "0  13541.666667  1000.0  1255.208333  2682.291667  13.541667\n",
      "********************\n",
      "fish bone\n",
      "  mins_required=array([0.006493506493506494, 0.002898550724637681, 0.003395585738539898,\n",
      "       0.0], dtype=object)\n",
      "Fermented:  False\n",
      "  min_required=0.006493506493506494 | maximum allowed 0.0022222222222222222\n",
      "        TC           TN           TP           TK       C/N\n",
      "0  12000.0  1246.451613  1281.290323  2548.387097  9.627329\n",
      "********************\n",
      "bone\n",
      "  mins_required=array([0.010101010101010102, 0.004081632653061225, 0.0020222446916076846,\n",
      "       -0.0], dtype=object)\n",
      "Fermented:  False\n",
      "  min_required=0.010101010101010102 | maximum allowed 0.0022222222222222222\n",
      "        TC      TN      TP      TK       C/N\n",
      "0  12000.0  1292.0  1891.0  2490.0  9.287926\n"
     ]
    }
   ],
   "source": [
    "sofix2 = {\"TC\": 10000, \"TN\": 800, \"TP\": 900, \"TK\": 2500, \"C/N\": 12.5}\n",
    "\n",
    "calc_min_required(sofix2)"
   ]
  },
  {
   "cell_type": "code",
   "execution_count": 10,
   "id": "96434dd7",
   "metadata": {},
   "outputs": [],
   "source": [
    "sofix4 = {\"TC\": 25000, \"TN\": 800, \"TP\": 1100, \"TK\": 2500, \"C/N\": 31.3}"
   ]
  },
  {
   "attachments": {
    "image.png": {
     "image/png": "[encoded data removed]"
    }
   },
   "cell_type": "markdown",
   "id": "0bc703c5",
   "metadata": {},
   "source": [
    "# Linear Programming Practice\n",
    "Reference: https://realpython.com/linear-programming-python/\n",
    "\n",
    "![image.png](attachment:image.png)"
   ]
  },
  {
   "cell_type": "code",
   "execution_count": 11,
   "id": "fb7e4e2a",
   "metadata": {},
   "outputs": [
    {
     "name": "stderr",
     "output_type": "stream",
     "text": [
      "/tmp/ipykernel_10132/3265256019.py:20: DeprecationWarning: `method='revised simplex'` is deprecated and will be removed in SciPy 1.11.0. Please use one of the HiGHS solvers (e.g. `method='highs'`) in new code.\n",
      "  opt = linprog(c=obj, A_ub=lhs_ineq, b_ub=rhs_ineq,\n"
     ]
    }
   ],
   "source": [
    "obj = [-1, -2]\n",
    "#      ─┬  ─┬\n",
    "#       │   └┤ Coefficient for y\n",
    "#       └────┤ Coefficient for x\n",
    "\n",
    "lhs_ineq = [[ 2,  1],  # Red constraint left side\n",
    "            [-4,  5],  # Blue constraint left side\n",
    "            [ 1, -2]]  # Yellow constraint left side\n",
    "\n",
    "rhs_ineq = [20,  # Red constraint right side\n",
    "            10,  # Blue constraint right side\n",
    "             2]  # Yellow constraint right side\n",
    "\n",
    "lhs_eq = [[-1, 5]]  # Green constraint left side\n",
    "rhs_eq = [15]       # Green constraint right side\n",
    "\n",
    "bnd = [(0, float(\"inf\")),  # Bounds of x\n",
    "       (0, float(\"inf\"))]  # Bounds of y\n",
    "\n",
    "opt = linprog(c=obj, A_ub=lhs_ineq, b_ub=rhs_ineq,\n",
    "              A_eq=lhs_eq, b_eq=rhs_eq, bounds=bnd,\n",
    "              method=\"revised simplex\")"
   ]
  },
  {
   "cell_type": "code",
   "execution_count": 12,
   "id": "9283724f",
   "metadata": {},
   "outputs": [
    {
     "data": {
      "text/plain": [
       " message: Optimization terminated successfully.\n",
       " success: True\n",
       "  status: 0\n",
       "     fun: -16.818181818181817\n",
       "       x: [ 7.727e+00  4.545e+00]\n",
       "     nit: 3"
      ]
     },
     "execution_count": 12,
     "metadata": {},
     "output_type": "execute_result"
    }
   ],
   "source": [
    "opt"
   ]
  },
  {
   "cell_type": "code",
   "execution_count": 13,
   "id": "efb1b81a",
   "metadata": {},
   "outputs": [],
   "source": [
    "from pulp import LpMaximize, LpMinimize, LpProblem, LpStatus, lpSum, LpVariable\n",
    "from pulp import PULP_CBC_CMD"
   ]
  },
  {
   "cell_type": "code",
   "execution_count": 14,
   "id": "0186f603",
   "metadata": {},
   "outputs": [],
   "source": [
    "# Create the model\n",
    "model = LpProblem(name=\"small-problem\", sense=LpMaximize)\n",
    "\n",
    "# Initialize the decision variables\n",
    "x = LpVariable(name=\"x\", lowBound=0)\n",
    "y = LpVariable(name=\"y\", lowBound=0)\n",
    "\n",
    "# Add the constraints to the model\n",
    "model += (2 * x + y <= 20, \"red_constraint\")\n",
    "model += (4 * x - 5 * y >= -10, \"blue_constraint\")\n",
    "model += (-x + 2 * y >= -2, \"yellow_constraint\")\n",
    "model += (-x + 5 * y == 15, \"green_constraint\")\n",
    "\n",
    "# Add the objective function to the model\n",
    "# obj_func = x + 2 * y\n",
    "# model += obj_func\n",
    "\n",
    "model += lpSum([x, 2 * y])"
   ]
  },
  {
   "cell_type": "code",
   "execution_count": 15,
   "id": "248fe202",
   "metadata": {},
   "outputs": [
    {
     "data": {
      "text/plain": [
       "small-problem:\n",
       "MAXIMIZE\n",
       "1*x + 2*y + 0.0\n",
       "SUBJECT TO\n",
       "red_constraint: 2 x + y <= 20\n",
       "\n",
       "blue_constraint: 4 x - 5 y >= -10\n",
       "\n",
       "yellow_constraint: - x + 2 y >= -2\n",
       "\n",
       "green_constraint: - x + 5 y = 15\n",
       "\n",
       "VARIABLES\n",
       "x Continuous\n",
       "y Continuous"
      ]
     },
     "execution_count": 15,
     "metadata": {},
     "output_type": "execute_result"
    }
   ],
   "source": [
    "model"
   ]
  },
  {
   "cell_type": "code",
   "execution_count": 16,
   "id": "b0ecc553",
   "metadata": {},
   "outputs": [
    {
     "name": "stdout",
     "output_type": "stream",
     "text": [
      "Welcome to the CBC MILP Solver \n",
      "Version: 2.10.3 \n",
      "Build Date: Dec 15 2019 \n",
      "\n",
      "command line - /home/hisanobu/.cache/pypoetry/virtualenvs/math-notes-rv-uysUR-py3.10/lib/python3.10/site-packages/pulp/apis/../solverdir/cbc/linux/i64/cbc /tmp/8601a0d4f85b49b9a193d978be61766a-pulp.mps -max -timeMode elapsed -branch -printingOptions all -solution /tmp/8601a0d4f85b49b9a193d978be61766a-pulp.sol (default strategy 1)\n",
      "At line 2 NAME          MODEL\n",
      "At line 3 ROWS\n",
      "At line 9 COLUMNS\n",
      "At line 20 RHS\n",
      "At line 25 BOUNDS\n",
      "At line 26 ENDATA\n",
      "Problem MODEL has 4 rows, 2 columns and 8 elements\n",
      "Coin0008I MODEL read with 0 errors\n",
      "Option for timeMode changed from cpu to elapsed\n",
      "Presolve 0 (-4) rows, 0 (-2) columns and 0 (-8) elements\n",
      "Empty problem - 0 rows, 0 columns and 0 elements\n",
      "Optimal - objective value 16.818182\n",
      "After Postsolve, objective 16.818182, infeasibilities - dual 0 (0), primal 0 (0)\n",
      "Optimal objective 16.81818182 - 0 iterations time 0.002, Presolve 0.00\n",
      "Option for printingOptions changed from normal to all\n",
      "Total time (CPU seconds):       0.00   (Wallclock seconds):       0.00\n",
      "\n"
     ]
    }
   ],
   "source": [
    "# Solve the problem\n",
    "status = model.solve()"
   ]
  },
  {
   "cell_type": "code",
   "execution_count": 17,
   "id": "e5ee89ff",
   "metadata": {},
   "outputs": [
    {
     "name": "stdout",
     "output_type": "stream",
     "text": [
      "status: 1, Optimal\n",
      "objective: 16.8181817\n",
      "x: 7.7272727\n",
      "y: 4.5454545\n",
      "red_constraint: -9.99999993922529e-08\n",
      "blue_constraint: 18.181818300000003\n",
      "yellow_constraint: 3.3636362999999996\n",
      "green_constraint: -2.0000000233721948e-07\n"
     ]
    }
   ],
   "source": [
    "print(f\"status: {model.status}, {LpStatus[model.status]}\")\n",
    "print(f\"objective: {model.objective.value()}\")\n",
    "for var in model.variables():\n",
    "    print(f\"{var.name}: {var.value()}\")\n",
    "    \n",
    "for name, constraint in model.constraints.items():\n",
    "    print(f\"{name}: {constraint.value()}\")"
   ]
  },
  {
   "cell_type": "code",
   "execution_count": 18,
   "id": "143c3479",
   "metadata": {},
   "outputs": [
    {
     "data": {
      "text/plain": [
       "12.2727272"
      ]
     },
     "execution_count": 18,
     "metadata": {},
     "output_type": "execute_result"
    }
   ],
   "source": [
    "lpSum(model.variables()).value()"
   ]
  },
  {
   "cell_type": "code",
   "execution_count": 19,
   "id": "bd12974c",
   "metadata": {},
   "outputs": [
    {
     "data": {
      "text/plain": [
       "7200*x + 8200*y + 200 >= 0"
      ]
     },
     "execution_count": 19,
     "metadata": {},
     "output_type": "execute_result"
    }
   ],
   "source": [
    "(1000 + 8000* x + 9000*y) >= 800*(1+x+y)"
   ]
  },
  {
   "cell_type": "code",
   "execution_count": 20,
   "id": "5529995f",
   "metadata": {},
   "outputs": [
    {
     "data": {
      "text/plain": [
       "7200*x + 8200*y + 200.0 >= 0"
      ]
     },
     "execution_count": 20,
     "metadata": {},
     "output_type": "execute_result"
    }
   ],
   "source": [
    "var_list = [1, x, y]\n",
    "lpSum([coef*v for coef, v in zip([1000, 8000, 9000], var_list)]) >= 800*lpSum(var_list)"
   ]
  },
  {
   "cell_type": "code",
   "execution_count": 21,
   "id": "d4d31f5f",
   "metadata": {},
   "outputs": [
    {
     "data": {
      "text/plain": [
       "OrderedDict([(0, 'a'), (1, 'b')])"
      ]
     },
     "execution_count": 21,
     "metadata": {},
     "output_type": "execute_result"
    }
   ],
   "source": [
    "OrderedDict((k,v) for k, v in enumerate([\"a\", \"b\"]))"
   ]
  },
  {
   "cell_type": "code",
   "execution_count": 22,
   "id": "b4fe7508",
   "metadata": {
    "scrolled": false
   },
   "outputs": [],
   "source": [
    "def get_upper_bound(mqis, index):\n",
    "    if mqis['Fermented'].iloc[index]:\n",
    "        return RecomendedValues['Amount Manure(kg)'].max\n",
    "    return RecomendedValues['Amount Organic(kg)'].max\n",
    "\n",
    "def calc_TX(TX_old, mqis, increases):\n",
    "    numerator = (TX_old + increases * mqis)\n",
    "    denominator = (1 + increases)\n",
    "\n",
    "def prescribe(sofix,\n",
    "              mqis,\n",
    "              prefixed=[],\n",
    "              name=\"sofix-prescription\",\n",
    "              pulp_msg=False,\n",
    "              ):\n",
    "    MQIs_trans = mqis.transpose()\n",
    "    materials = MQIs_trans.columns.to_list()\n",
    "    num_materials = len(materials)\n",
    "#     kvs = [(materials[i], LpVariable(name=f\"x{i+1}\", \n",
    "#                      lowBound=0,\n",
    "#                      upBound=get_upper_bound(mqis, i))) for i in range(num_materials)]\n",
    "#     xs = OrderedDict(kvs)\n",
    "    xs = OrderedDict()\n",
    "    var_name2mat_name = {}\n",
    "    for i in range(num_materials):\n",
    "        mat_name = materials[i]\n",
    "        var_name = f\"x{i+1}\"\n",
    "        xs[mat_name] = LpVariable(name=var_name, \n",
    "                     lowBound=0,\n",
    "                     upBound=get_upper_bound(mqis, i))\n",
    "        var_name2mat_name[var_name] = mat_name\n",
    "#     print(kvs)\n",
    "    print(xs)\n",
    "    sofix_selected = np.array([sofix[fld] for fld in selected_fields])\n",
    "    print(f\"{sofix_selected=}\")\n",
    "    constraints = []\n",
    "    new_TXS = []\n",
    "    for TXs in MQIs_trans.iterrows():\n",
    "        target_element = TXs[0]\n",
    "        if target_element not in selected_fields:\n",
    "            continue\n",
    "        mg_per_kgs = TXs[1]\n",
    "#         print(f\"{target_element=}\")\n",
    "        rng = RecomendedValues[target_element]\n",
    "#         print(f\"{rng=}\")\n",
    "        if rng.min:\n",
    "            vars_ = list(xs.values())\n",
    "#             print(f\"{vars_=}\")\n",
    "            numerator = lpSum([sofix[target_element]]+[coef*x for coef, x in zip(mg_per_kgs, vars_)])\n",
    "            denominator = lpSum([1] + vars_)\n",
    "            constraint = numerator >= rng.min*denominator\n",
    "            constraints.append(constraint)\n",
    "            new_TXS.append((numerator, denominator))\n",
    "#             print(constraint)\n",
    "    \n",
    "    obj_func = lpSum(xs)\n",
    "    print(f\"{obj_func=}\")\n",
    "\n",
    "    model = LpProblem(name=name, sense=LpMinimize)\n",
    "\n",
    "    for cons in constraints:\n",
    "        model += cons\n",
    "\n",
    "    if prefixed:\n",
    "        for i, (name, val) in enumerate(prefixed):\n",
    "            model += (xs[name] == val, f\"Prefixed Value{i}:{name}\")\n",
    "    model += obj_func\n",
    "\n",
    "    model.solve(PULP_CBC_CMD(msg=False))\n",
    "\n",
    "    print(f\"status: {model.status}, {LpStatus[model.status]}\")\n",
    "    total_amount = model.objective.value()\n",
    "    print(f\"Objective(Total amount): {total_amount:.5f}[mg/kg]({round(total_amount*PERKG2PER10A)}[kg/10a])\")\n",
    "    for var in model.variables():\n",
    "        print(f\"{var_name2mat_name[var.name]}: {var.value():.5f}[mg/kg] ({round(var.value()*PERKG2PER10A)}[kg/10a])\")\n",
    "#     df = pd.DataFrame({name: [round(n.value()/d.value())] for name, (n, d) in zip(selected_fields, new_TXS)})\n",
    "    new_TXs = [round(n.value()/d.value()) for name, (n, d) in zip(selected_fields, new_TXS)]\n",
    "    display_fields = selected_fields + [\"C/N\", \"C/P\"]\n",
    "    new_TXs = np.append(new_TXs, new_TXs[0]/new_TXs[1])\n",
    "    new_TXs = np.append(new_TXs, new_TXs[0]/new_TXs[2])\n",
    "    df = pd.DataFrame({k: [v] for k, v in zip(display_fields, new_TXs)})\n",
    "    print(f\"{df}\")\n",
    "#     for name, constraint in model.constraints.items():\n",
    "#         print(f\"{name}: {constraint.value()}\")\n",
    "        \n"
   ]
  },
  {
   "cell_type": "code",
   "execution_count": 29,
   "id": "683f6762",
   "metadata": {},
   "outputs": [
    {
     "name": "stdout",
     "output_type": "stream",
     "text": [
      "OrderedDict([('soy meal', x1)])\n",
      "sofix_selected=array([11000,   800,   900,  2500])\n",
      "obj_func=1*x1 + 0.0\n",
      "status: -1, Infeasible\n",
      "Objective(Total amount): 0.01835[mg/kg](4128[kg/10a])\n",
      "soy meal: 0.01835[mg/kg] (4128[kg/10a])\n",
      "        TC      TN      TP      TK       C/N        C/P\n",
      "0  17288.0  1867.0  1100.0  2905.0  9.259775  15.716364\n"
     ]
    }
   ],
   "source": [
    "prescribe(sofix=sofix1,\n",
    "          mqis=MQIs.loc[['soy meal']],\n",
    "         )"
   ]
  },
  {
   "cell_type": "code",
   "execution_count": 23,
   "id": "d5a7e3b2",
   "metadata": {},
   "outputs": [
    {
     "name": "stdout",
     "output_type": "stream",
     "text": [
      "OrderedDict([('cow manure', x1), ('chicken manure', x2), ('soy meal', x3)])\n",
      "sofix_selected=array([10000,   800,   900,  2500])\n",
      "obj_func=1*x1 + 1*x2 + 1*x3 + 0.0\n",
      "status: 1, Optimal\n",
      "Objective(Total amount): 0.01183[mg/kg](2663[kg/10a])\n",
      "cow manure: 0.00000[mg/kg] (0[kg/10a])\n",
      "chicken manure: 0.01183[mg/kg] (2663[kg/10a])\n",
      "soy meal: 0.00000[mg/kg] (0[kg/10a])\n",
      "        TC      TN      TP      TK        C/N        C/P\n",
      "0  12807.0  1142.0  1100.0  2798.0  11.214536  11.642727\n"
     ]
    }
   ],
   "source": [
    "prescribe(sofix=sofix2,\n",
    "          mqis=MQIs.loc[['cow manure', 'chicken manure', 'soy meal']],\n",
    "         )"
   ]
  },
  {
   "cell_type": "code",
   "execution_count": 24,
   "id": "83d7b6f6",
   "metadata": {},
   "outputs": [
    {
     "name": "stdout",
     "output_type": "stream",
     "text": [
      "OrderedDict([('chicken manure', x1), ('soy meal', x2)])\n",
      "sofix_selected=array([25000,   800,  1100,  2500])\n",
      "obj_func=1*x1 + 1*x2 + 0.0\n",
      "status: 1, Optimal\n",
      "Objective(Total amount): 0.00565[mg/kg](1271[kg/10a])\n",
      "chicken manure: 0.00444[mg/kg] (1000[kg/10a])\n",
      "soy meal: 0.00121[mg/kg] (271[kg/10a])\n",
      "        TC      TN      TP      TK     C/N        C/P\n",
      "0  26396.0  1000.0  1188.0  2640.0  26.396  22.218855\n"
     ]
    }
   ],
   "source": [
    "prescribe(sofix=sofix4,\n",
    "          mqis=MQIs.loc[['chicken manure', 'soy meal']],\n",
    "         prefixed=[(\"chicken manure\", 1000/PERKG2PER10A)])"
   ]
  },
  {
   "cell_type": "code",
   "execution_count": 25,
   "id": "e920961b",
   "metadata": {},
   "outputs": [
    {
     "name": "stdout",
     "output_type": "stream",
     "text": [
      "OrderedDict([('chicken manure', x1), ('soy meal', x2)])\n",
      "sofix_selected=array([25000,   700,  1100,  2500])\n",
      "obj_func=1*x1 + 1*x2 + 0.0\n",
      "status: 1, Optimal\n",
      "Objective(Total amount): 0.00847[mg/kg](1907[kg/10a])\n",
      "chicken manure: 0.00667[mg/kg] (1500[kg/10a])\n",
      "soy meal: 0.00181[mg/kg] (407[kg/10a])\n",
      "        TC      TN      TP      TK     C/N        C/P\n",
      "0  27088.0  1000.0  1231.0  2709.0  27.088  22.004874\n"
     ]
    }
   ],
   "source": [
    "sofix5 = {\"TC\": 25000, \"TN\": 700, \"TP\": 1100, \"TK\": 2500, \"C/N\": 35.7}\n",
    "prescribe(sofix=sofix5,\n",
    "          mqis=MQIs.loc[['chicken manure', 'soy meal']],\n",
    "         prefixed=[(\"chicken manure\", 1500/PERKG2PER10A)])"
   ]
  },
  {
   "cell_type": "code",
   "execution_count": 26,
   "id": "6f9a905a",
   "metadata": {},
   "outputs": [
    {
     "data": {
      "text/plain": [
       "31.25"
      ]
     },
     "execution_count": 26,
     "metadata": {},
     "output_type": "execute_result"
    }
   ],
   "source": [
    "25000/800"
   ]
  },
  {
   "cell_type": "code",
   "execution_count": 27,
   "id": "b544032f",
   "metadata": {},
   "outputs": [
    {
     "name": "stdout",
     "output_type": "stream",
     "text": [
      "OrderedDict([('rice bran', x1), ('fish bone', x2), ('bone', x3)])\n",
      "sofix_selected=array([25000,  1000,   800,  2500])\n",
      "obj_func=1*x1 + 1*x2 + 1*x3 + 0.0\n",
      "status: 1, Optimal\n",
      "Objective(Total amount): 0.00358[mg/kg](806[kg/10a])\n",
      "rice bran: 0.00000[mg/kg] (0[kg/10a])\n",
      "fish bone: 0.00136[mg/kg] (306[kg/10a])\n",
      "bone: 0.00222[mg/kg] (500[kg/10a])\n",
      "        TC      TN      TP      TK        C/N        C/P\n",
      "0  25810.0  1202.0  1100.0  2508.0  21.472546  23.463636\n"
     ]
    }
   ],
   "source": [
    "sofix5 = {\"TC\": 25000, \"TN\": 1000, \"TP\": 800, \"TK\": 2500, \"C/N\": 25.0, \"C/P\":31.3}\n",
    "prescribe(sofix=sofix5,\n",
    "          mqis=MQIs.loc[['rice bran', 'fish bone', 'bone']])"
   ]
  },
  {
   "cell_type": "code",
   "execution_count": 32,
   "id": "7055aadd",
   "metadata": {},
   "outputs": [
    {
     "name": "stdout",
     "output_type": "stream",
     "text": [
      "OrderedDict([('soy meal', x1)])\n",
      "sofix_selected=array([15000,   800,  1100,  2500])\n",
      "obj_func=1*x1 + 0.0\n",
      "status: -1, Infeasible\n",
      "Objective(Total amount): 0.00339[mg/kg](763[kg/10a])\n",
      "soy meal: 0.00339[mg/kg] (763[kg/10a])\n",
      "        TC      TN      TP      TK     C/N        C/P\n",
      "0  16166.0  1000.0  1137.0  2576.0  16.166  14.218118\n"
     ]
    }
   ],
   "source": [
    "sofix = {\"TC\": 15000, \"TN\": 800, \"TP\": 1100, \"TK\": 2500, \"C/N\": 18.8}\n",
    "prescribe(sofix=sofix,\n",
    "          mqis=MQIs.loc[['soy meal']],\n",
    "         )"
   ]
  },
  {
   "cell_type": "code",
   "execution_count": 40,
   "id": "0ef6a754",
   "metadata": {},
   "outputs": [
    {
     "name": "stdout",
     "output_type": "stream",
     "text": [
      "[('TC', 0.8333333333333334), ('TN', 0.8), ('TP', 0.8181818181818182), ('TK', 1.0), ('C/N', 1.5625)]\n",
      "OrderedDict([('cow manure', x1)])\n",
      "sofix_selected=array([10000,   800,   900,  2500])\n",
      "obj_func=1*x1 + 0.0\n",
      "status: -1, Infeasible\n",
      "Objective(Total amount): 0.02899[mg/kg](6522[kg/10a])\n",
      "cow manure: 0.02899[mg/kg] (6522[kg/10a])\n",
      "        TC      TN      TP      TK        C/N        C/P\n",
      "0  18732.0  1285.0  1100.0  3021.0  14.577432  17.029091\n",
      "\n",
      "OrderedDict([('cow manure', x1), ('chicken manure', x2), ('soy meal', x3)])\n",
      "sofix_selected=array([10000,   800,   900,  2500])\n",
      "obj_func=1*x1 + 1*x2 + 1*x3 + 0.0\n",
      "status: 1, Optimal\n",
      "Objective(Total amount): 0.01183[mg/kg](2663[kg/10a])\n",
      "cow manure: 0.00000[mg/kg] (0[kg/10a])\n",
      "chicken manure: 0.01183[mg/kg] (2663[kg/10a])\n",
      "soy meal: 0.00000[mg/kg] (0[kg/10a])\n",
      "        TC      TN      TP      TK        C/N        C/P\n",
      "0  12807.0  1142.0  1100.0  2798.0  11.214536  11.642727\n"
     ]
    }
   ],
   "source": [
    "sofix = {\"TC\": 10000, \"TN\": 800, \"TP\": 900, \"TK\": 2500, \"C/N\": 12.5}\n",
    "print(f\"{[(k, v/RecomendedValues[k].min) for k, v in sofix.items()]}\")\n",
    "prescribe(sofix=sofix,\n",
    "          mqis=MQIs.loc[['cow manure']],\n",
    "         )\n",
    "print(\"\")\n",
    "prescribe(sofix=sofix,\n",
    "          mqis=MQIs.loc[['cow manure', 'chicken manure', 'soy meal']],\n",
    "         )"
   ]
  },
  {
   "cell_type": "code",
   "execution_count": 70,
   "id": "89343377",
   "metadata": {},
   "outputs": [
    {
     "data": {
      "text/html": [
       "<div>\n",
       "<style scoped>\n",
       "    .dataframe tbody tr th:only-of-type {\n",
       "        vertical-align: middle;\n",
       "    }\n",
       "\n",
       "    .dataframe tbody tr th {\n",
       "        vertical-align: top;\n",
       "    }\n",
       "\n",
       "    .dataframe thead th {\n",
       "        text-align: right;\n",
       "    }\n",
       "</style>\n",
       "<table border=\"1\" class=\"dataframe\">\n",
       "  <thead>\n",
       "    <tr style=\"text-align: right;\">\n",
       "      <th></th>\n",
       "      <th>TC</th>\n",
       "      <th>TN</th>\n",
       "      <th>TP</th>\n",
       "      <th>TK</th>\n",
       "      <th>C/N</th>\n",
       "      <th>C/P</th>\n",
       "      <th>Fermented</th>\n",
       "    </tr>\n",
       "  </thead>\n",
       "  <tbody>\n",
       "    <tr>\n",
       "      <th>cow manure</th>\n",
       "      <td>320000</td>\n",
       "      <td>18000</td>\n",
       "      <td>8000</td>\n",
       "      <td>21000</td>\n",
       "      <td>17.8</td>\n",
       "      <td>40.0</td>\n",
       "      <td>True</td>\n",
       "    </tr>\n",
       "    <tr>\n",
       "      <th>chicken manure</th>\n",
       "      <td>250000</td>\n",
       "      <td>30000</td>\n",
       "      <td>18000</td>\n",
       "      <td>28000</td>\n",
       "      <td>8.3</td>\n",
       "      <td>13.9</td>\n",
       "      <td>True</td>\n",
       "    </tr>\n",
       "    <tr>\n",
       "      <th>soy meal</th>\n",
       "      <td>360000</td>\n",
       "      <td>60000</td>\n",
       "      <td>12000</td>\n",
       "      <td>25000</td>\n",
       "      <td>6.0</td>\n",
       "      <td>30.0</td>\n",
       "      <td>False</td>\n",
       "    </tr>\n",
       "    <tr>\n",
       "      <th>rice bran</th>\n",
       "      <td>350000</td>\n",
       "      <td>20000</td>\n",
       "      <td>35000</td>\n",
       "      <td>20000</td>\n",
       "      <td>17.5</td>\n",
       "      <td>10.0</td>\n",
       "      <td>False</td>\n",
       "    </tr>\n",
       "    <tr>\n",
       "      <th>fish bone</th>\n",
       "      <td>320000</td>\n",
       "      <td>70000</td>\n",
       "      <td>60000</td>\n",
       "      <td>10000</td>\n",
       "      <td>4.6</td>\n",
       "      <td>5.3</td>\n",
       "      <td>False</td>\n",
       "    </tr>\n",
       "    <tr>\n",
       "      <th>bone</th>\n",
       "      <td>210000</td>\n",
       "      <td>50000</td>\n",
       "      <td>100000</td>\n",
       "      <td>1500</td>\n",
       "      <td>4.2</td>\n",
       "      <td>2.1</td>\n",
       "      <td>False</td>\n",
       "    </tr>\n",
       "  </tbody>\n",
       "</table>\n",
       "</div>"
      ],
      "text/plain": [
       "                    TC     TN      TP     TK   C/N   C/P Fermented\n",
       "cow manure      320000  18000    8000  21000  17.8  40.0      True\n",
       "chicken manure  250000  30000   18000  28000   8.3  13.9      True\n",
       "soy meal        360000  60000   12000  25000   6.0  30.0     False\n",
       "rice bran       350000  20000   35000  20000  17.5  10.0     False\n",
       "fish bone       320000  70000   60000  10000   4.6   5.3     False\n",
       "bone            210000  50000  100000   1500   4.2   2.1     False"
      ]
     },
     "execution_count": 70,
     "metadata": {},
     "output_type": "execute_result"
    }
   ],
   "source": [
    "MQIs"
   ]
  },
  {
   "cell_type": "code",
   "execution_count": null,
   "id": "aed4a8a0",
   "metadata": {},
   "outputs": [],
   "source": []
  }
 ],
 "metadata": {
  "kernelspec": {
   "display_name": "Python 3 (ipykernel)",
   "language": "python",
   "name": "python3"
  },
  "language_info": {
   "codemirror_mode": {
    "name": "ipython",
    "version": 3
   },
   "file_extension": ".py",
   "mimetype": "text/x-python",
   "name": "python",
   "nbconvert_exporter": "python",
   "pygments_lexer": "ipython3",
   "version": "3.10.4"
  }
 },
 "nbformat": 4,
 "nbformat_minor": 5
}
