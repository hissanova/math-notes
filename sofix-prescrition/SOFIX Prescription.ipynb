{
 "cells": [
  {
   "cell_type": "code",
   "execution_count": 1,
   "id": "2b184081",
   "metadata": {},
   "outputs": [],
   "source": [
    "from typing import NamedTuple, Optional \n",
    "\n",
    "class MQI(NamedTuple):\n",
    "    TC: float\n",
    "    TN: float\n",
    "    TP: float\n",
    "    TK: float\n",
    "    \n",
    "    @property\n",
    "    def CN_ratio(self):\n",
    "        return self.TC / self.TN\n",
    "    "
   ]
  },
  {
   "cell_type": "code",
   "execution_count": 2,
   "id": "06d7f650",
   "metadata": {},
   "outputs": [],
   "source": [
    "MQIs = {\"cow\": MQI(TC=320000, TN=18000, TP=8000, TK=21000),\n",
    "        \"chicken\": MQI(TC=250000, TN=30000, TP=18000, TK=28000),\n",
    "        \"soy\": MQI(TC=360000, TN=60000, TP=12000, TK=25000)\n",
    "       }"
   ]
  },
  {
   "cell_type": "code",
   "execution_count": 3,
   "id": "f66c22aa",
   "metadata": {},
   "outputs": [],
   "source": [
    "class Range(NamedTuple):\n",
    "    min: Optional[float]\n",
    "    max: Optional[float]\n",
    "\n",
    "RecomendedValues = {\n",
    "    \"Bacteria Density\": Range(2.0, None),\n",
    "    \"TC\": Range(12000, None),\n",
    "    \"TN\": Range(1000, None),\n",
    "    \"TP\": Range(1100, None),\n",
    "    \"TK\": Range(2500, 10000),\n",
    "    \"C/N\": Range(8, 27),\n",
    "    \"N-activity\": Range(25, None),\n",
    "    \"P-activity\": Range(20, 80)\n",
    "}\n",
    "\n",
    "max_manure_amount = 5000 / (10 * 5000 * 4.5)\n",
    "\n",
    "RecomendedValues[\"Amount Manure(kg)\"] = Range(None, max_manure_amount)\n",
    "\n",
    "max_organic_amount = 500 / (10 * 5000 * 4.5)\n",
    "\n",
    "RecomendedValues[\"Amount Organic(kg)\"] = Range(None, max_organic_amount)"
   ]
  },
  {
   "cell_type": "code",
   "execution_count": 4,
   "id": "7546de90",
   "metadata": {},
   "outputs": [],
   "source": [
    "import pandas as pd\n",
    "import numpy as np"
   ]
  },
  {
   "cell_type": "code",
   "execution_count": 14,
   "id": "dec6fe66",
   "metadata": {},
   "outputs": [],
   "source": [
    "MQIs = pd.DataFrame(\n",
    "    {\"cow manure\": {\"TC\": 320000, \"TN\": 18000, \"TP\": 8000, \"TK\": 21000, \"C/N\": 17.8, \"Fermented\": True},\n",
    "     \"chicken manure\": {\"TC\": 250000, \"TN\": 30000, \"TP\": 18000, \"TK\": 28000, \"C/N\": 8.3, \"Fermented\": True},\n",
    "     \"soy meal\": {\"TC\": 360000, \"TN\": 60000, \"TP\": 12000, \"TK\": 25000, \"C/N\": 6.0, \"Fermented\": False},\n",
    "     \"rice bran\": {\"TC\": 350000, \"TN\": 20000, \"TP\": 35000, \"TK\": 20000, \"C/N\": 17.5, \"Fermented\": False},\n",
    "     \"fish bone\": {\"TC\": 320000, \"TN\": 70000, \"TP\": 60000, \"TK\": 10000, \"C/N\": 4.6, \"Fermented\": False},\n",
    "     \"bone\": {\"TC\": 210000, \"TN\": 50000, \"TP\": 100000, \"TK\": 1500, \"C/N\": 4.2, \"Fermented\": False}\n",
    "       }).transpose()"
   ]
  },
  {
   "cell_type": "code",
   "execution_count": 15,
   "id": "eb7c870b",
   "metadata": {},
   "outputs": [
    {
     "data": {
      "text/html": [
       "<div>\n",
       "<style scoped>\n",
       "    .dataframe tbody tr th:only-of-type {\n",
       "        vertical-align: middle;\n",
       "    }\n",
       "\n",
       "    .dataframe tbody tr th {\n",
       "        vertical-align: top;\n",
       "    }\n",
       "\n",
       "    .dataframe thead th {\n",
       "        text-align: right;\n",
       "    }\n",
       "</style>\n",
       "<table border=\"1\" class=\"dataframe\">\n",
       "  <thead>\n",
       "    <tr style=\"text-align: right;\">\n",
       "      <th></th>\n",
       "      <th>TC</th>\n",
       "      <th>TN</th>\n",
       "      <th>TP</th>\n",
       "      <th>TK</th>\n",
       "      <th>C/N</th>\n",
       "      <th>Fermented</th>\n",
       "    </tr>\n",
       "  </thead>\n",
       "  <tbody>\n",
       "    <tr>\n",
       "      <th>cow manure</th>\n",
       "      <td>320000</td>\n",
       "      <td>18000</td>\n",
       "      <td>8000</td>\n",
       "      <td>21000</td>\n",
       "      <td>17.8</td>\n",
       "      <td>True</td>\n",
       "    </tr>\n",
       "    <tr>\n",
       "      <th>chicken manure</th>\n",
       "      <td>250000</td>\n",
       "      <td>30000</td>\n",
       "      <td>18000</td>\n",
       "      <td>28000</td>\n",
       "      <td>8.3</td>\n",
       "      <td>True</td>\n",
       "    </tr>\n",
       "    <tr>\n",
       "      <th>soy meal</th>\n",
       "      <td>360000</td>\n",
       "      <td>60000</td>\n",
       "      <td>12000</td>\n",
       "      <td>25000</td>\n",
       "      <td>6.0</td>\n",
       "      <td>False</td>\n",
       "    </tr>\n",
       "    <tr>\n",
       "      <th>rice bran</th>\n",
       "      <td>350000</td>\n",
       "      <td>20000</td>\n",
       "      <td>35000</td>\n",
       "      <td>20000</td>\n",
       "      <td>17.5</td>\n",
       "      <td>False</td>\n",
       "    </tr>\n",
       "    <tr>\n",
       "      <th>fish bone</th>\n",
       "      <td>320000</td>\n",
       "      <td>70000</td>\n",
       "      <td>60000</td>\n",
       "      <td>10000</td>\n",
       "      <td>4.6</td>\n",
       "      <td>False</td>\n",
       "    </tr>\n",
       "    <tr>\n",
       "      <th>bone</th>\n",
       "      <td>210000</td>\n",
       "      <td>50000</td>\n",
       "      <td>100000</td>\n",
       "      <td>1500</td>\n",
       "      <td>4.2</td>\n",
       "      <td>False</td>\n",
       "    </tr>\n",
       "  </tbody>\n",
       "</table>\n",
       "</div>"
      ],
      "text/plain": [
       "                    TC     TN      TP     TK   C/N Fermented\n",
       "cow manure      320000  18000    8000  21000  17.8      True\n",
       "chicken manure  250000  30000   18000  28000   8.3      True\n",
       "soy meal        360000  60000   12000  25000   6.0     False\n",
       "rice bran       350000  20000   35000  20000  17.5     False\n",
       "fish bone       320000  70000   60000  10000   4.6     False\n",
       "bone            210000  50000  100000   1500   4.2     False"
      ]
     },
     "execution_count": 15,
     "metadata": {},
     "output_type": "execute_result"
    }
   ],
   "source": [
    "MQIs"
   ]
  },
  {
   "cell_type": "code",
   "execution_count": 16,
   "id": "308c4499",
   "metadata": {},
   "outputs": [],
   "source": [
    "selected_fields = [\"TC\", \"TN\", \"TP\", \"TK\"]\n",
    "\n",
    "\n",
    "def calc_TX(TX_old, mqi, increase):\n",
    "    return (TX_old + increase * mqi)/(1 + increase)\n",
    "\n",
    "\n",
    "def calc_min_required(sofix):\n",
    "    min_vals = np.array([RecomendedValues[fld].min for fld in selected_fields])\n",
    "\n",
    "    sofix_selected = np.array([sofix[fld] for fld in selected_fields])\n",
    "\n",
    "#     mqi = MQIs[selected_fields].loc[\"cow\"].to_numpy()\n",
    "\n",
    "    for x in MQIs.iterrows():\n",
    "        print(20*\"*\")\n",
    "        print(x[0])\n",
    "#         print(MQIs.loc[x[0]])\n",
    "        mqi = x[1][selected_fields].to_numpy()\n",
    "        mins_required = (min_vals - sofix_selected)/(mqi - min_vals)\n",
    "        print(f\"  {mins_required=}\")\n",
    "        min_required = max(mins_required)\n",
    "        print(f\"  {min_required=} | maximum allowed {RecomendedValues['Amount Manure(kg)'].max}\")\n",
    "        new_TXs = calc_TX(sofix_selected, mqi, min_required)\n",
    "        display_fields = selected_fields + [\"C/N\"]\n",
    "        new_TXs = np.append(new_TXs, new_TXs[0]/new_TXs[1])\n",
    "        df = pd.DataFrame({k: [v] for k, v in zip(display_fields, new_TXs)})\n",
    "        print(f\"{df}\")\n",
    "#         print(f\"  C/N:{new_TXs[0]/new_TXs[1]}\")"
   ]
  },
  {
   "cell_type": "code",
   "execution_count": 17,
   "id": "095dc54a",
   "metadata": {},
   "outputs": [
    {
     "name": "stdout",
     "output_type": "stream",
     "text": [
      "********************\n",
      "cow manure\n",
      "  mins_required=array([0.003246753246753247, 0.011764705882352941, 0.028985507246376812,\n",
      "       0.0], dtype=object)\n",
      "  min_required=0.028985507246376812 | maximum allowed 0.022222222222222223\n",
      "             TC           TN      TP           TK        C/N\n",
      "0  19704.225352  1284.507042  1100.0  3021.126761  15.339912\n",
      "********************\n",
      "chicken manure\n",
      "  mins_required=array([0.004201680672268907, 0.006896551724137931, 0.011834319526627219,\n",
      "       0.0], dtype=object)\n",
      "  min_required=0.011834319526627219 | maximum allowed 0.022222222222222223\n",
      "             TC           TN      TP           TK        C/N\n",
      "0  13795.321637  1141.520468  1100.0  2798.245614  12.085041\n",
      "********************\n",
      "soy meal\n",
      "  mins_required=array([0.0028735632183908046, 0.003389830508474576, 0.01834862385321101,\n",
      "       0.0], dtype=object)\n",
      "  min_required=0.01834862385321101 | maximum allowed 0.022222222222222223\n",
      "             TC           TN      TP           TK       C/N\n",
      "0  17288.288288  1866.666667  1100.0  2905.405405  9.261583\n",
      "********************\n",
      "rice bran\n",
      "  mins_required=array([0.0029585798816568047, 0.010526315789473684, 0.0058997050147492625,\n",
      "       0.0], dtype=object)\n",
      "  min_required=0.010526315789473684 | maximum allowed 0.022222222222222223\n",
      "         TC      TN           TP           TK       C/N\n",
      "0  14531.25  1000.0  1255.208333  2682.291667  14.53125\n",
      "********************\n",
      "fish bone\n",
      "  mins_required=array([0.003246753246753247, 0.002898550724637681, 0.003395585738539898,\n",
      "       0.0], dtype=object)\n",
      "  min_required=0.003395585738539898 | maximum allowed 0.022222222222222223\n",
      "             TC           TN      TP           TK        C/N\n",
      "0  12045.685279  1034.179357  1100.0  2525.380711  11.647579\n",
      "********************\n",
      "bone\n",
      "  mins_required=array([0.005050505050505051, 0.004081632653061225, 0.0020222446916076846,\n",
      "       -0.0], dtype=object)\n",
      "  min_required=0.005050505050505051 | maximum allowed 0.022222222222222223\n",
      "        TC           TN          TP           TK        C/N\n",
      "0  12000.0  1047.236181  1397.98995  2494.974874  11.458733\n"
     ]
    }
   ],
   "source": [
    "sofix1 = {\"TC\": 11000, \"TN\": 800, \"TP\": 900, \"TK\": 2500, \"C/N\": 13.8}\n",
    "\n",
    "calc_min_required(sofix1)"
   ]
  },
  {
   "cell_type": "code",
   "execution_count": 18,
   "id": "edac83ea",
   "metadata": {},
   "outputs": [
    {
     "name": "stdout",
     "output_type": "stream",
     "text": [
      "********************\n",
      "cow manure\n",
      "  mins_required=array([0.003246753246753247, 0.011764705882352941, 0.028985507246376812,\n",
      "       0.0], dtype=object)\n",
      "  min_required=0.028985507246376812 | maximum allowed 0.022222222222222223\n",
      "             TC           TN      TP           TK        C/N\n",
      "0  19704.225352  1284.507042  1100.0  3021.126761  15.339912\n",
      "********************\n",
      "chicken manure\n",
      "  mins_required=array([0.004201680672268907, 0.006896551724137931, 0.011834319526627219,\n",
      "       0.0], dtype=object)\n",
      "  min_required=0.011834319526627219 | maximum allowed 0.022222222222222223\n",
      "             TC           TN      TP           TK        C/N\n",
      "0  13795.321637  1141.520468  1100.0  2798.245614  12.085041\n",
      "********************\n",
      "soy meal\n",
      "  mins_required=array([0.0028735632183908046, 0.003389830508474576, 0.01834862385321101,\n",
      "       0.0], dtype=object)\n",
      "  min_required=0.01834862385321101 | maximum allowed 0.022222222222222223\n",
      "             TC           TN      TP           TK       C/N\n",
      "0  17288.288288  1866.666667  1100.0  2905.405405  9.261583\n",
      "********************\n",
      "rice bran\n",
      "  mins_required=array([0.0029585798816568047, 0.010526315789473684, 0.0058997050147492625,\n",
      "       0.0], dtype=object)\n",
      "  min_required=0.010526315789473684 | maximum allowed 0.022222222222222223\n",
      "         TC      TN           TP           TK       C/N\n",
      "0  14531.25  1000.0  1255.208333  2682.291667  14.53125\n",
      "********************\n",
      "fish bone\n",
      "  mins_required=array([0.003246753246753247, 0.002898550724637681, 0.003395585738539898,\n",
      "       0.0], dtype=object)\n",
      "  min_required=0.003395585738539898 | maximum allowed 0.022222222222222223\n",
      "             TC           TN      TP           TK        C/N\n",
      "0  12045.685279  1034.179357  1100.0  2525.380711  11.647579\n",
      "********************\n",
      "bone\n",
      "  mins_required=array([0.005050505050505051, 0.004081632653061225, 0.0020222446916076846,\n",
      "       -0.0], dtype=object)\n",
      "  min_required=0.005050505050505051 | maximum allowed 0.022222222222222223\n",
      "        TC           TN          TP           TK        C/N\n",
      "0  12000.0  1047.236181  1397.98995  2494.974874  11.458733\n"
     ]
    }
   ],
   "source": [
    "sofix2 = {\"TC\": 10000, \"TN\": 800, \"TP\": 900, \"TK\": 2500, \"C/N\": 12.5}\n",
    "\n",
    "calc_min_required(sofix1)"
   ]
  },
  {
   "cell_type": "code",
   "execution_count": 10,
   "id": "96434dd7",
   "metadata": {},
   "outputs": [
    {
     "data": {
      "text/plain": [
       "array([0. , 1. , 0.9])"
      ]
     },
     "execution_count": 10,
     "metadata": {},
     "output_type": "execute_result"
    }
   ],
   "source": [
    "np.append(np.array([0.0, 1.0]), 0.9)"
   ]
  },
  {
   "cell_type": "code",
   "execution_count": null,
   "id": "aa4d8606",
   "metadata": {},
   "outputs": [],
   "source": []
  }
 ],
 "metadata": {
  "kernelspec": {
   "display_name": "Python 3 (ipykernel)",
   "language": "python",
   "name": "python3"
  },
  "language_info": {
   "codemirror_mode": {
    "name": "ipython",
    "version": 3
   },
   "file_extension": ".py",
   "mimetype": "text/x-python",
   "name": "python",
   "nbconvert_exporter": "python",
   "pygments_lexer": "ipython3",
   "version": "3.10.4"
  }
 },
 "nbformat": 4,
 "nbformat_minor": 5
}
