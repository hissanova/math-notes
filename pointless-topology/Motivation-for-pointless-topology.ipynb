{
 "cells": [
  {
   "cell_type": "markdown",
   "id": "4ed2ff9e",
   "metadata": {},
   "source": [
    "# 2024年９月 圏論研究会 Pointless Topology\n",
    "発表者：中村仁宣\n",
    "## 要旨\n",
    "私は元々、量子重力の問題を研究がしたく、後期博士課程では弦理論を研究しようと思っていましたが、たまたま見かけた雑誌(別冊・数理科学)で Loop Quantum Gravity (以下 LQG)を知り、LQG で量子重力の研究をしようと決めました。\n",
    "そして、さらに文献を読み漁り、様々な興味深い量子重力へのアプローチを紹介しているこの本に辿りつきました。\n",
    "\n",
    "Approaches to Quantum Gravity\n",
    "Toward a New Understanding of Space, Time and Matter\n",
    "Editor:Daniele Oriti\n",
    "https://www.google.co.jp/books/edition/Approaches_to_Quantum_Gravity/HS2j-Ur1F4YC?hl=en&gbpv=0\n",
    "\n",
    "これらの中でも、「Causal set approach」というアプローチに関する文献を読み知った事実から、時空のトポロジーを一般化したらどうなるんだろう？という疑問が浮かんだのが、Pointless Topology を勉強したくなった切っ掛けです。"
   ]
  },
  {
   "cell_type": "markdown",
   "id": "75aba660",
   "metadata": {},
   "source": [
    "## Causal Order Relations\n",
    "参考文献：Luca Bombelli, David Meyer, Rafael Sorkin: Space-time as a causal set\n",
    "https://journals.aps.org/prl/abstract/10.1103/PhysRevLett.59.521\n",
    "「古典的な時空の因果構造(causal structure)は、時空の幾何学的構造をほぼ決定する。」\\\n",
    "通常は、時空をある微分構造 $S$ を伴う、トポロジカル多様体 $M$ として捉え、計量 $g_{\\mu\\nu}$ をそれらの上で定義する。\n",
    "因果関係 $P$ は、$g$ から計算される光円錐から導かれるものとして理解される。\\\n",
    "しかし、実はこの導出は逆方向にもたどることができる。\\\n",
    "時空はある適当な滑らかさを持つ事、因果関係に関する条件、次元が２以上である事を仮定し、因果関係 $P$ 以外の時空に関する情報を全て捨てさるとする。\n",
    "そうすると、$P$ から、$M$ のトポロジーだけでなく、微分構造 $S$ と共形計量(conformal metric) $g_{\\mu\\nu}/|\\det{g}|$ を再現する事ができるのである。\\\n",
    "ここで、問題となるのは、計量構造として決まるのは共形構造までであって、長さや体積の情報を含めて、$g_{\\mu\\nu}$ を完全に復元することは、連続時空を考えている範囲内では、不可能であるという事実である。\\\n",
    "Causal set アプローチはここを逆手にとり、時空は微視的スケールでは離散的な「事象の点」の集合であり、有限の体積内には有限個の点しか含まれないという仮定をおけば、それを体積の定義とすることができるとし、そこから $g$ を復元できるようになるから、我々の見ている連続的と思っている時空像は実は、その根本に横たわっている離散的な時空の”連続近似”なのではないか？という発想を出発点としている。（Riemann も物理的空間が微小スケールにおいて離散的であるかもしれない可能性がある事を考察していた。参考：Bernhard Riemann, Über die Hypothesen, welche der Geometrie zu Grunde liegen(1868). (日本語)ベルンハルト・リーマン, 『幾何学の基礎をなす仮説について』、ちくま学芸文庫）\n",
    "\n",
    "### 因果空間\n",
    "因果空間(causal space)とは、集合 $X$ とその上の３つの関係 $\\prec, \\ll, \\rightarrow$ から成る四つ組 $(X, \\prec, \\ll, \\rightarrow)$ で、以下の関係が任意の元 $x,y,z \\in X$ に対して成り立つもののことである。\n",
    "\n",
    "(I) $x \\prec x$;\\\n",
    "(II) $x \\prec y$ かつ $y \\prec z$ ならば、$x \\prec z$;\\\n",
    "(III) $x \\prec y$ かつ $y \\prec x$ ならば、　$x=y$;\\\n",
    "(IV) $x \\ll x$ は成り立たない;\\\n",
    "(V) $x \\ll y$ ならば、$x \\prec y$;\\\n",
    "(VI$^+$) $x \\prec y$ かつ $y \\ll z$ ならば、$x \\ll z$;\\\n",
    "(VI$^-$) $x \\ll y$ かつ $y \\prec z$ ならば、$x \\ll z$;\\\n",
    "(VII) $x \\rightarrow y$ は $x \\prec y$ かつ $x \\ll y$ でないことと同値である.\n",
    "\n",
    "3つの因果関係(causal relations) $\\prec, \\ll, \\rightarrow$ はそれぞれ、因果関係(causality)、時間的順序関係(chronology)、境界関係(horismos)と言う。\n",
    "\n",
    "#### 例: $n$次元 Minkowski 空間 $L^n$\n",
    "$L^n$ ($n\\ge 2$) を、実数の $n$ 組 $x = (x_0,\\dots,x_{n-1})$ の集合で、以下の2次形式が定義されているものとする,\n",
    "$$ Q(x,y) = (x_0 - y_0)^2 - \\sum_1^{n-1} (x_i - y_i)^2.$$\n",
    "すると、3つの順序関係は, $x_0 \\le y_0$ の時、\n",
    "- $x \\rightarrow y \\;\\Leftrightarrow \\; Q(x,y) = 0$\n",
    "- $x \\ll y \\;\\Leftrightarrow \\; Q(x,y) > 0$\n",
    "- $x \\prec y \\;\\Leftrightarrow \\; Q(x,y) \\ge 0$\n",
    "\n",
    "となる。"
   ]
  },
  {
   "cell_type": "markdown",
   "id": "63888834",
   "metadata": {},
   "source": [
    "## 点集合を空間の基礎となす事の考察\n",
    "Bombelli らの論文では、時空が真に連続的かどうかに対する疑いの根拠として、場の量子論での無限と相対論での特異点を例に出している。\n",
    "しかし、元々離散的な構造を導入した理由は、我々のスケールでの数学的記述が、そのままの形で任意のスケールに適用できない可能性から来ていたのであった。\n",
    "ということは、時空の微小空間での性質変化の原因の可能性としては、「連続的に見えたものが実は離散的な点がたくさん集まっていた」という猫像の他にもあるはずである。\n",
    "そこで、一つの可能性として考えられるのは、時空は有限の大きさを持った「原子（もしくは量子）」から構成されているというものである。\n",
    "この可能性については、LQG において知られている「量子化した計量（の空間的成分）から計算される体積や面積の作用素のスペクトル最小値が０より大きい」という結果は、一つの示唆を与えている。\n",
    "\n",
    "LQGにおいて、この結果が導かれる基礎になったのは、スピンネットワークと呼ばれるある種のグラフ構造である。\n",
    "しかし、グラフは「点(node)」と「辺(edge)」からなるが、LQG において、スピンネットワークのノードが、物理的な時空における点とどのような関係にあるかは、未だに解明されていない（要確認）。\n",
    "また、LQG で量子化に成功しているのは、時空を1+3次元分解して得られる空間的部分多様体上の計量のみであり、その時間方向発展に関しての量子化はまだ成功していない。よって、LQG においては、その時空因果関係が得られていない事になる。\n"
   ]
  },
  {
   "cell_type": "markdown",
   "id": "3ab333d0",
   "metadata": {},
   "source": [
    "## Point-free formulations of Physics\n",
    "\n",
    "読みたい文献: \\\n",
    "Dimiter Vakarelov, Point-free theories of space and time,\n",
    "https://arxiv.org/pdf/2004.14755"
   ]
  }
 ],
 "metadata": {
  "kernelspec": {
   "display_name": "Python 3 (ipykernel)",
   "language": "python",
   "name": "python3"
  },
  "language_info": {
   "codemirror_mode": {
    "name": "ipython",
    "version": 3
   },
   "file_extension": ".py",
   "mimetype": "text/x-python",
   "name": "python",
   "nbconvert_exporter": "python",
   "pygments_lexer": "ipython3",
   "version": "3.10.4"
  }
 },
 "nbformat": 4,
 "nbformat_minor": 5
}
