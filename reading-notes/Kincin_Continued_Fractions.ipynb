{
 "cells": [
  {
   "cell_type": "markdown",
   "id": "5e4433a0",
   "metadata": {},
   "source": [
    "*A regular or simple continued fraction* is given by\n",
    "\n",
    "$$a_0 + \\cfrac{1}{a_1 + \\cfrac{1}{a_2 + \\cfrac{1}{a_3 + \\cfrac{1}{\\ddots}}}}.$$\n",
    "\n",
    "The series of the numbers $a_0, a_1, a_2,\\dots$ can be infinite or finite, and each number is called an element of the continued fraction.\n",
    "\n",
    "They can be arbitrary numbers, but we will assume them to be positive integers except for $a_0$ which we will allow to be $0$.\n",
    "\n",
    "When the continued fraction is finite, it takes the form,\n",
    "\n",
    "$$\\alpha = a_0 + \\cfrac{1}{a_1 + \\cfrac{1}{a_2 + \\cfrac{1}{a_3 + \\cfrac{1}{\\ddots  \\cfrac{1}{a_{n-1} + \\cfrac{1}{a_n}}}}}}.$$\n",
    "\n",
    "We call it a $n$-th order continued fraction.\n",
    "\n",
    "Notation:\n",
    "For brevity, let us denote the fractions as follows,\n",
    "\n",
    "An infinite continued fraction:\n",
    "\n",
    "$$[a_0 ; a_1, a_2, \\dots]$$\n",
    "\n",
    "\n",
    "An $n$-th order continued fraction:\n",
    "\n",
    "$$[a_0 ; a_1, a_2, \\dots, a_n]$$\n",
    "\n",
    "**Some terminologies:**\n",
    "\n",
    "A *segment*\n",
    "\n",
    "$$s_k = [a_0; a_1, a_2, \\dots, a_k]$$\n",
    "\n",
    "where $0\\le k \\le n$\n",
    "\n",
    "A *remainder*\\\n",
    "for an infinite continued fraction\n",
    "$$r_k = [a_k;a_{k+1}, a_{k+2}, \\dots]$$\n",
    "for a finite continued fraction\n",
    "$$r_k = [a_k;a_{k+1}, a_{k+2}, \\dots, a_n]$$\n",
    "and\n",
    "$$[a_0; a_1, a_2, \\dots, a_n] = [a_0; a_1, a_2, \\dots, a_{k-1}, r_{k}] \\quad (0 \\le k \\le n)$$"
   ]
  },
  {
   "cell_type": "code",
   "execution_count": 1,
   "id": "b6265b56",
   "metadata": {},
   "outputs": [],
   "source": [
    "from fractions import Fraction\n",
    "from functools import reduce\n",
    "\n",
    "from matplotlib import pyplot as plt\n",
    " \n",
    "\n",
    "def cfrac_recur_(a):\n",
    "    length = len(a_series)\n",
    "    if length == 1:\n",
    "        return [Fraction(a[0])]\n",
    "    init = Fraction(a[0])\n",
    "    seq = [init, init + Fraction(1, a[1])]\n",
    "    for i in range(2, length):\n",
    "        seq.append(Fraction(a[i] * seq[-1].numerator + seq[-2].numerator,\n",
    "                           a[i] * seq[-1].denominator + seq[-2].denominator))\n",
    "    return seq\n",
    "\n",
    "\n",
    "def cfrac_recur(a, seq=[]):\n",
    "    if len(a) == 0:\n",
    "        return seq\n",
    "    length = len(seq)\n",
    "    if length == 0:\n",
    "        seq.append(Fraction(a[0]))\n",
    "    elif length == 1:\n",
    "        seq.append(seq[0] + Fraction(1, a[0]))\n",
    "    else:\n",
    "        seq.append(Fraction(a[0] * seq[-1].numerator + seq[-2].numerator,\n",
    "                            a[0] * seq[-1].denominator + seq[-2].denominator))\n",
    "    return cfrac_recur(a[1:], seq=seq)"
   ]
  },
  {
   "cell_type": "code",
   "execution_count": 2,
   "id": "31d47084",
   "metadata": {},
   "outputs": [
    {
     "name": "stdout",
     "output_type": "stream",
     "text": [
      "[2, 2, 2, 2, 2]\n",
      "2, 5/2, 12/5, 29/12, 70/29\n"
     ]
    },
    {
     "data": {
      "image/png": "[encoded data removed]",
      "text/plain": [
       "<Figure size 432x288 with 1 Axes>"
      ]
     },
     "metadata": {
      "needs_background": "light"
     },
     "output_type": "display_data"
    }
   ],
   "source": [
    "N = 5\n",
    "a_series =  [2 for i in range(N)]\n",
    "x = range(len(a_series))\n",
    "y = cfrac_recur(a_series)\n",
    "\n",
    "print(a_series)\n",
    "print(reduce(lambda x, y: x+ \", \" +y, [str(f) for f in y]))\n",
    "# Function to plot\n",
    "plt.plot(x, y)\n",
    " \n",
    "# function to show the plot\n",
    "plt.show()"
   ]
  },
  {
   "cell_type": "code",
   "execution_count": 3,
   "id": "30259431",
   "metadata": {},
   "outputs": [
    {
     "data": {
      "text/plain": [
       "Fraction(1, 1)"
      ]
     },
     "execution_count": 3,
     "metadata": {},
     "output_type": "execute_result"
    }
   ],
   "source": [
    "Fraction(1)"
   ]
  }
 ],
 "metadata": {
  "kernelspec": {
   "display_name": "Python 3 (ipykernel)",
   "language": "python",
   "name": "python3"
  },
  "language_info": {
   "codemirror_mode": {
    "name": "ipython",
    "version": 3
   },
   "file_extension": ".py",
   "mimetype": "text/x-python",
   "name": "python",
   "nbconvert_exporter": "python",
   "pygments_lexer": "ipython3",
   "version": "3.10.4"
  }
 },
 "nbformat": 4,
 "nbformat_minor": 5
}
