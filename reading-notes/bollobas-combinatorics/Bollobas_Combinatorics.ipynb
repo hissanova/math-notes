{
 "cells": [
  {
   "cell_type": "markdown",
   "id": "aa92b848",
   "metadata": {},
   "source": [
    "# 2. Representing sets\n",
    "\n",
    "$$\n",
    "\\begin\n",
    "Theorem 1. \n",
    "$$\n",
    "Let $\\mathcal{F}= \\{A_1, A_2, \\dots, A_n\\}$ be a set system on $X = [n]$. Then there is an element $x \\in X$ such that $A_1 - \\{x\\}, A_2 - \\{x\\}, \\dots, A_n - \\{x\\}$ are all distinct. The set system $\\mathcal{F}= \\{\\emptyset, \\{1\\}, \\{2\\}, \\dots, \\{n\\}\\}$ shows that such en $x$ need not exist if $|\\mathcal{F}| = n +1$.\n",
    "\n"
   ]
  },
  {
   "cell_type": "code",
   "execution_count": null,
   "id": "72db7c4c",
   "metadata": {},
   "outputs": [],
   "source": []
  }
 ],
 "metadata": {
  "kernelspec": {
   "display_name": "Python 3 (ipykernel)",
   "language": "python",
   "name": "python3"
  },
  "language_info": {
   "codemirror_mode": {
    "name": "ipython",
    "version": 3
   },
   "file_extension": ".py",
   "mimetype": "text/x-python",
   "name": "python",
   "nbconvert_exporter": "python",
   "pygments_lexer": "ipython3",
   "version": "3.10.4"
  }
 },
 "nbformat": 4,
 "nbformat_minor": 5
}
