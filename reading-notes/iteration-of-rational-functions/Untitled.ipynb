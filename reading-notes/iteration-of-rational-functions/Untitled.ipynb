{
 "cells": [
  {
   "cell_type": "markdown",
   "id": "d65d6eb6",
   "metadata": {},
   "source": [
    "# Iteration of Rational Functions, Alan F. Beardon\n",
    "Complex Analytic Dynamical Systems"
   ]
  },
  {
   "cell_type": "markdown",
   "id": "221358e9",
   "metadata": {},
   "source": [
    "# Chapter 1. Examples\n",
    "\n",
    "This book is about the iteration (repeated application) of a rational function:\n",
    "$$\n",
    "R(z) = \\frac{a_0 + a_1 z + \\dots a_n z^n}{b_0 + b_1 z + \\dots b_m z^m}\n",
    "$$\n",
    "of complex variable $z$. We denote for a specific complex number $z_0 \\in \\mathbb{C}$:\n",
    "\n",
    "- $z_0, z_1 = R(z_0), z_2 = R(z_1),\\dots, z_n = R(z_{n-1})= R^n(z_0),\\dots $\n",
    "- $R^0(z)=I(z) =z$ is the identity map.\n",
    "- $f \\circ g(z) = fg(z) \\text{ or } f(gz)$\n",
    "\n"
   ]
  },
  {
   "cell_type": "code",
   "execution_count": null,
   "id": "8d5c0328",
   "metadata": {},
   "outputs": [],
   "source": []
  }
 ],
 "metadata": {
  "kernelspec": {
   "display_name": "Python 3 (ipykernel)",
   "language": "python",
   "name": "python3"
  },
  "language_info": {
   "codemirror_mode": {
    "name": "ipython",
    "version": 3
   },
   "file_extension": ".py",
   "mimetype": "text/x-python",
   "name": "python",
   "nbconvert_exporter": "python",
   "pygments_lexer": "ipython3",
   "version": "3.10.4"
  }
 },
 "nbformat": 4,
 "nbformat_minor": 5
}
