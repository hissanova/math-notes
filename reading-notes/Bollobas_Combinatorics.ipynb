{
 "cells": [
  {
   "cell_type": "markdown",
   "id": "bb9c6009",
   "metadata": {},
   "source": [
    "# 2. Representing sets\n",
    "\n",
    "Theorem 1. \n",
    "\n",
    "Let $\\mathcal{F}= \\{A_1, A_2, \\dots, A_n\\}$ be a set system on $X = [n]$. Then there is an element $x \\in X$ such that $A_1 - \\{x\\}, A_2 - \\{x\\}, \\dots, A_n - \\{x\\}$ are all distinct. The set system $\\mathcal{F}= \\{\\emptyset, \\{1\\}, \\{2\\}, \\dots, \\{n\\}\\}$ shows that such en $x$ need not exist if $|\\mathcal{F}| = n +1$.\n",
    "\n",
    "*Proof 1.*\n",
    "Suppose that $\\mathcal{F}$ is a counterexample to the assertion.\n",
    "Then $n \\ge 2$and our aim is to arrive at a contradiction.\n",
    "\n",
    "Set $\\mathcal{D} = \\{D \\subset X: |\\mathcal{F}_D| \\ge |D| + 1\\}$, where $\\mathcal{F}_D = \\{D \\cap A_{i}: i \\in \\mathcal{F}\\}$.\n",
    "If $A_{1}, A_{2} \\in \\mathcal{F}$ and $d \\in A_{1} \\triangle A_{2}$ then $\\{d\\} \\in \\mathcal{D}$ so $\\mathcal{D} \\ne \\emptyset$.\n",
    "\n",
    "Let $D$ be a maximal set in $\\mathcal{D}$. Then $|D| \\le n-2$(??) and $|\\mathcal{F}_D| \\le n-1$ (so, in fact $|\\mathcal{F}_D| = n-1$)\n",
    "\n",
    "$$\n",
    "\\fbox{What about the case $D=\\{1, 2, \\dots, n-1\\}$ $\\mathcal{F} = \\{\\{1\\},\\{2\\},\\dots,\\{n-1\\},\\{n\\}\\}$,\n",
    "where we have $|D| = n-1$ and $|\\mathcal{F}_D| = n$?}\n",
    "$$\n",
    "\n",
    "When $D=\\{1, 2, \\dots, n\\}$ $\\mathcal{F} = \\{\\{1\\},\\{2\\},\\dots,\\{n-1\\},\\{n\\}\\}$,\n",
    "\n",
    "we have $|D| = n$ and $|\\mathcal{F}_D| = n$.\n",
    "\n",
    "$\\mathcal{F}_D$ has the size $n$ at most by definition. ($\\because |\\mathcal{F}_D| \\le |\\mathcal{F}|=n$)\n",
    "\n",
    "Suppose $|\\mathcal{F}_D|=n$, then if $D \\in \\mathcal{D}$, it has size, at most, $|D|=n-1$.\n",
    "\n",
    "Let $\\mathcal{F}$ be a family such that $\\exists D \\in \\mathcal{D}$ with $|D| = n - 1$. Now, we can assume $D = \\{1,2,\\dots,n-1\\}$. Then, since $n \\notin D$, $A_1 \\cap D - \\{n\\}, A_2 \\cap D - \\{n\\}, \\dots, A_n \\cap D  - \\{n\\}$ are all distinct, which implies $A_1 - \\{n\\}, A_2 - \\{n\\}, \\dots, A_n  - \\{n\\}$ are all distinct.\n",
    "\n",
    "But this is impossible because we assumed such an element does not exist. Hence, we must have $|\\mathcal{F}_D| \\le n - 1$."
   ]
  },
  {
   "cell_type": "markdown",
   "id": "2d672bf7",
   "metadata": {},
   "source": []
  }
 ],
 "metadata": {
  "kernelspec": {
   "display_name": "Python 3 (ipykernel)",
   "language": "python",
   "name": "python3"
  },
  "language_info": {
   "codemirror_mode": {
    "name": "ipython",
    "version": 3
   },
   "file_extension": ".py",
   "mimetype": "text/x-python",
   "name": "python",
   "nbconvert_exporter": "python",
   "pygments_lexer": "ipython3",
   "version": "3.10.4"
  }
 },
 "nbformat": 4,
 "nbformat_minor": 5
}
