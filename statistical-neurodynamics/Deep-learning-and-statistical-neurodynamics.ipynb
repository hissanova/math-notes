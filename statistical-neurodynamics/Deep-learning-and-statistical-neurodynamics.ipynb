{
 "cells": [
  {
   "cell_type": "markdown",
   "id": "f1f94ea7",
   "metadata": {},
   "source": [
    "# 深層学習と統計神経力学\n",
    "著：甘利 俊一\n",
    "\n",
    "神経接核(NTK, neural tangent kernel)理論の証明を中心として、深層学習がなぜ上手くいくかの解説をする本。"
   ]
  },
  {
   "cell_type": "markdown",
   "id": "839d365d",
   "metadata": {},
   "source": [
    "## 第1章 層状のランダム結合神経回路\n",
    "### 1層のランダム神経回路網\n",
    "神経細胞の数理モデルを述べる。\n",
    "\n",
    "$d$次元の入力信号 $\\boldsymbol{x}=(x_1,\\dots,x_d)$ に対し、1次元の出力信号 $z$ を出す神経細胞を考える。\n",
    "入力 $\\boldsymbol{x}$ に対するニューロンの結合の重みを $\\boldsymbol{w} = (w_1,\\dots,w_d)$ とすれば、ニューロンはまず入力の重み付き線形和を計算し、それにバイアス項 $b$ を加える。\n",
    "$$ u = \\sum w_i x_i + b = \\boldsymbol{w} \\cdot \\boldsymbol{x} +b$$\n",
    "出力 $y$ は $u$ の単調増加の非線形関数(活性化関数)で\n",
    "$$ y = \\varphi(u) $$\n",
    "となる。$ \\varphi$ は例えばシグモイド関数(sigmoid function)\n",
    "$$ \\varphi(u) = \\tanh(u)$$\n",
    "とか、ReLU (Rectified Linear Unit)\n",
    "$$ \n",
    "\\varphi(u) = \n",
    "\\begin{cases}\n",
    "    0, & \\text{if $u \\le 0$}\\\\\n",
    "    u, & \\text{if $u > 0$}\n",
    "\\end{cases}\n",
    "$$\n",
    "などがある。巨視的な量を陽に計算する時は、誤差積分関数\n",
    "$$ \\varphi(u) = \\frac{1}{\\sqrt{2}} \\int_{-\\infty}^{u} \\exp \\left\\{-\\frac{v^2}{2}\\right\\}dv$$\n",
    "を用いるのは理論上便利である。\n",
    "\n",
    "以降、バイアス項 $b$ を省略して書くことが多い（いつでも、復活させることができる）。\n",
    "\n",
    "__ランダムニューロン__ とは、$w_i$ と $b$ とをランダムな値に決めたものである。\n",
    "確率分布としては、多くの場合平均 $0$ の独立なガウス分布が用いられる。\n",
    "$$ w_i \\sim N\\left(0,\\frac{\\sigma_w^2}{d}\\right)$$\n",
    "に従うとする。ここで、$N\\left(\\mu,\\sigma^2\\right)$ は、平均 $\\mu$, 分散 $\\sigma^2$ のガウス分布を意味する。\n",
    "$\\frac{1}{d}$ は、 $u$ が線形和であるため。"
   ]
  }
 ],
 "metadata": {
  "kernelspec": {
   "display_name": "Python 3 (ipykernel)",
   "language": "python",
   "name": "python3"
  },
  "language_info": {
   "codemirror_mode": {
    "name": "ipython",
    "version": 3
   },
   "file_extension": ".py",
   "mimetype": "text/x-python",
   "name": "python",
   "nbconvert_exporter": "python",
   "pygments_lexer": "ipython3",
   "version": "3.10.4"
  }
 },
 "nbformat": 4,
 "nbformat_minor": 5
}
